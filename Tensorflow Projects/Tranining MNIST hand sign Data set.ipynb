{
  "nbformat": 4,
  "nbformat_minor": 0,
  "metadata": {
    "colab": {
      "name": "Untitled10.ipynb",
      "provenance": [],
      "collapsed_sections": []
    },
    "kernelspec": {
      "name": "python3",
      "display_name": "Python 3"
    },
    "accelerator": "GPU"
  },
  "cells": [
    {
      "cell_type": "code",
      "metadata": {
        "id": "RbpcMDN0Nu3s",
        "colab_type": "code",
        "colab": {
          "resources": {
            "http://localhost:8080/nbextensions/google.colab/files.js": {
              "data": "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",
              "ok": true,
              "headers": [
                [
                  "content-type",
                  "application/javascript"
                ]
              ],
              "status": 200,
              "status_text": ""
            }
          },
          "base_uri": "https://localhost:8080/",
          "height": 180
        },
        "outputId": "c0f6e011-20b4-4ac9-c177-33f3941421ac"
      },
      "source": [
        "from google.colab import drive\n",
        "drive.mount('/content/gdrive')\n",
        "\n",
        "from google.colab import files\n",
        "files.upload()\n",
        "\n",
        "import tensorflow as tf\n",
        "import numpy as np\n",
        "import csv\n",
        "from os import getcwd\n",
        "import csv\n",
        "from tensorflow.keras.preprocessing.image import ImageDataGenerator"
      ],
      "execution_count": 1,
      "outputs": [
        {
          "output_type": "stream",
          "text": [
            "Go to this URL in a browser: https://accounts.google.com/o/oauth2/auth?client_id=947318989803-6bn6qk8qdgf4n4g3pfee6491hc0brc4i.apps.googleusercontent.com&redirect_uri=urn%3aietf%3awg%3aoauth%3a2.0%3aoob&scope=email%20https%3a%2f%2fwww.googleapis.com%2fauth%2fdocs.test%20https%3a%2f%2fwww.googleapis.com%2fauth%2fdrive%20https%3a%2f%2fwww.googleapis.com%2fauth%2fdrive.photos.readonly%20https%3a%2f%2fwww.googleapis.com%2fauth%2fpeopleapi.readonly&response_type=code\n",
            "\n",
            "Enter your authorization code:\n",
            "··········\n",
            "Mounted at /content/gdrive\n"
          ],
          "name": "stdout"
        },
        {
          "output_type": "display_data",
          "data": {
            "text/html": [
              "\n",
              "     <input type=\"file\" id=\"files-97fd4fb4-1372-43fe-963c-88336525c000\" name=\"files[]\" multiple disabled\n",
              "        style=\"border:none\" />\n",
              "     <output id=\"result-97fd4fb4-1372-43fe-963c-88336525c000\">\n",
              "      Upload widget is only available when the cell has been executed in the\n",
              "      current browser session. Please rerun this cell to enable.\n",
              "      </output>\n",
              "      <script src=\"/nbextensions/google.colab/files.js\"></script> "
            ],
            "text/plain": [
              "<IPython.core.display.HTML object>"
            ]
          },
          "metadata": {
            "tags": []
          }
        },
        {
          "output_type": "stream",
          "text": [
            "Saving kaggle.json to kaggle.json\n"
          ],
          "name": "stdout"
        }
      ]
    },
    {
      "cell_type": "code",
      "metadata": {
        "id": "xOFSGZLCQglG",
        "colab_type": "code",
        "colab": {
          "base_uri": "https://localhost:8080/",
          "height": 35
        },
        "outputId": "4f8e3e37-8581-485c-d4d3-df14033027af"
      },
      "source": [
        "!pip install -q kaggle\n",
        "!mkdir -p ~/.kaggle\n",
        "!cp kaggle.json ~/.kaggle/\n",
        "!ls ~/.kaggle\n",
        "!chmod 600 /root/.kaggle/kaggle.json \n"
      ],
      "execution_count": 2,
      "outputs": [
        {
          "output_type": "stream",
          "text": [
            "kaggle.json\n"
          ],
          "name": "stdout"
        }
      ]
    },
    {
      "cell_type": "code",
      "metadata": {
        "id": "JdfZaAf0Vuvz",
        "colab_type": "code",
        "colab": {
          "base_uri": "https://localhost:8080/",
          "height": 35
        },
        "outputId": "3cb9d258-e0f4-437d-c4de-b0c34743b656"
      },
      "source": [
        "!kaggle datasets download -d datamunge/sign-language-mnist -p /content/gdrive/My\\ Drive/kaggle/MNIST\n"
      ],
      "execution_count": 3,
      "outputs": [
        {
          "output_type": "stream",
          "text": [
            "sign-language-mnist.zip: Skipping, found more recently modified local copy (use --force to force download)\n"
          ],
          "name": "stdout"
        }
      ]
    },
    {
      "cell_type": "code",
      "metadata": {
        "id": "9hHh48RCW8d6",
        "colab_type": "code",
        "colab": {
          "base_uri": "https://localhost:8080/",
          "height": 69
        },
        "outputId": "9f571a07-c547-4f3a-e9a2-cc7f2b6ed756"
      },
      "source": [
        "import os\n",
        "os.chdir('/content/gdrive/My Drive/kaggle/MNIST')  \n",
        "!mkdir train  \n",
        "!mkdir test \n",
        "!unzip -q sign-language-mnist.zip -d sign-language-mnist/\n"
      ],
      "execution_count": 4,
      "outputs": [
        {
          "output_type": "stream",
          "text": [
            "mkdir: cannot create directory ‘train’: File exists\n",
            "mkdir: cannot create directory ‘test’: File exists\n",
            "replace sign-language-mnist/amer_sign2.png? [y]es, [n]o, [A]ll, [N]one, [r]ename: N\n"
          ],
          "name": "stdout"
        }
      ]
    },
    {
      "cell_type": "code",
      "metadata": {
        "id": "TG_akHNtWYU6",
        "colab_type": "code",
        "colab": {
          "base_uri": "https://localhost:8080/",
          "height": 87
        },
        "outputId": "22dc0b47-44eb-4ea7-a004-f0c3a4034ece"
      },
      "source": [
        "def data(file_name):\n",
        "  with open(file_name) as training_files:\n",
        "    csv_reader = csv.reader(training_files, delimiter=',')\n",
        "    first_line = True\n",
        "    temp_images=[]\n",
        "    temp_labels = []\n",
        "    for row in csv_reader:\n",
        "      if first_line:\n",
        "        first_line = False\n",
        "      else:\n",
        "        temp_labels.append(row[0])\n",
        "        image_data = row[1:785]\n",
        "        image_data_as_array = np.array_split(image_data,28)\n",
        "        temp_images.append(image_data_as_array)\n",
        "\n",
        "\n",
        "    images = np.array(temp_images).astype('float')\n",
        "    labels = np.array(temp_labels).astype('float')\n",
        "\n",
        "    return images, labels\n",
        "\n",
        "\n",
        "path_mnist_train = f\"{getcwd()}/sign-language-mnist/sign_mnist_train/sign_mnist_train.csv\"\n",
        "path_mnist_test = f\"{getcwd()}/sign-language-mnist/sign_mnist_test/sign_mnist_test.csv\"\n",
        "training_images, training_labels = data(path_mnist_train)\n",
        "testing_images, testing_labels = data(path_mnist_test)\n",
        "\n",
        "print(training_images.shape)\n",
        "print(training_labels.shape)\n",
        "print(testing_images.shape)\n",
        "print(testing_labels.shape)"
      ],
      "execution_count": 15,
      "outputs": [
        {
          "output_type": "stream",
          "text": [
            "(27455, 28, 28)\n",
            "(27455,)\n",
            "(7172, 28, 28)\n",
            "(7172,)\n"
          ],
          "name": "stdout"
        }
      ]
    },
    {
      "cell_type": "code",
      "metadata": {
        "id": "Yyeqcm8Q0FJd",
        "colab_type": "code",
        "colab": {
          "base_uri": "https://localhost:8080/",
          "height": 52
        },
        "outputId": "15560b3b-f623-45aa-997b-d064662936f9"
      },
      "source": [
        "training_images = np.expand_dims(training_images,axis = 3)\n",
        "testing_images = np.expand_dims(testing_images,axis = 3)\n",
        "\n",
        "Data_generator = ImageDataGenerator(\n",
        "    rescale = 1./255,\n",
        "    rotation_range = 5,\n",
        "    width_shift_range = 0.05,\n",
        "    height_shift_range  =0.05,\n",
        "    shear_range = 0.05,\n",
        "    zoom_range = 0.05,\n",
        "    horizontal_flip = True,\n",
        "    fill_mode = 'nearest'\n",
        ")\n",
        "\n",
        "validation_data_generator = ImageDataGenerator(rescale = 1./255)\n",
        "\n",
        "print(training_images.shape)\n",
        "print(testing_images.shape)"
      ],
      "execution_count": 16,
      "outputs": [
        {
          "output_type": "stream",
          "text": [
            "(27455, 28, 28, 1)\n",
            "(7172, 28, 28, 1)\n"
          ],
          "name": "stdout"
        }
      ]
    },
    {
      "cell_type": "code",
      "metadata": {
        "id": "iPQaErjJ2xHb",
        "colab_type": "code",
        "colab": {
          "base_uri": "https://localhost:8080/",
          "height": 1000
        },
        "outputId": "0c972b7f-b612-42a7-8688-c48dd614f1b4"
      },
      "source": [
        "\n",
        "model = tf.keras.models.Sequential([\n",
        "        tf.keras.layers.Conv2D(400,(5,5),activation='relu',input_shape=(28,28,1), padding='same'),\n",
        "       \n",
        "        tf.keras.layers.MaxPooling2D((2,2),padding='same'),\n",
        "        \n",
        "        tf.keras.layers.Conv2D(200,(4,4),activation='relu',padding='same'),\n",
        "        tf.keras.layers.Dropout(0.1),\n",
        "        tf.keras.layers.MaxPooling2D((2,2),padding='same'),\n",
        "        \n",
        "        tf.keras.layers.Conv2D(100,(3,3),activation='relu',padding='same'),\n",
        "       \n",
        "        tf.keras.layers.MaxPooling2D((2,2),padding='same'),\n",
        "\n",
        "        tf.keras.layers.Conv2D(50,(2,2),activation='relu',padding='same'),\n",
        "      \n",
        "        tf.keras.layers.MaxPooling2D((2,2),padding='same'),\n",
        "\n",
        "        tf.keras.layers.Flatten(),\n",
        "        tf.keras.layers.Dense(1024,activation = 'relu'),\n",
        "        tf.keras.layers.Dropout(0.6),\n",
        "        tf.keras.layers.Dense(512,activation='relu'),\n",
        "        tf.keras.layers.Dropout(0.7),\n",
        "        tf.keras.layers.Dense(25,activation='softmax')\n",
        "])\n",
        "\n",
        "model.compile(loss = 'sparse_categorical_crossentropy', optimizer='rmsprop', metrics=['accuracy'])\n",
        "model.summary()\n",
        "\n",
        "history = model.fit_generator(Data_generator.flow(training_images, training_labels, batch_size=128),\n",
        "                              steps_per_epoch = len(training_images) / 128,\n",
        "                              epochs = 18,\n",
        "                              validation_data=validation_data_generator.flow(testing_images, testing_labels, batch_size=64),\n",
        "                              validation_steps = len(testing_images) / 64)\n",
        "\n",
        "model.evaluate(testing_images,testing_labels)\n",
        "\n"
      ],
      "execution_count": 32,
      "outputs": [
        {
          "output_type": "stream",
          "text": [
            "Model: \"sequential_21\"\n",
            "_________________________________________________________________\n",
            "Layer (type)                 Output Shape              Param #   \n",
            "=================================================================\n",
            "conv2d_84 (Conv2D)           (None, 28, 28, 400)       10400     \n",
            "_________________________________________________________________\n",
            "max_pooling2d_84 (MaxPooling (None, 14, 14, 400)       0         \n",
            "_________________________________________________________________\n",
            "conv2d_85 (Conv2D)           (None, 14, 14, 200)       1280200   \n",
            "_________________________________________________________________\n",
            "dropout_62 (Dropout)         (None, 14, 14, 200)       0         \n",
            "_________________________________________________________________\n",
            "max_pooling2d_85 (MaxPooling (None, 7, 7, 200)         0         \n",
            "_________________________________________________________________\n",
            "conv2d_86 (Conv2D)           (None, 7, 7, 100)         180100    \n",
            "_________________________________________________________________\n",
            "max_pooling2d_86 (MaxPooling (None, 4, 4, 100)         0         \n",
            "_________________________________________________________________\n",
            "conv2d_87 (Conv2D)           (None, 4, 4, 50)          20050     \n",
            "_________________________________________________________________\n",
            "max_pooling2d_87 (MaxPooling (None, 2, 2, 50)          0         \n",
            "_________________________________________________________________\n",
            "flatten_21 (Flatten)         (None, 200)               0         \n",
            "_________________________________________________________________\n",
            "dense_63 (Dense)             (None, 1024)              205824    \n",
            "_________________________________________________________________\n",
            "dropout_63 (Dropout)         (None, 1024)              0         \n",
            "_________________________________________________________________\n",
            "dense_64 (Dense)             (None, 512)               524800    \n",
            "_________________________________________________________________\n",
            "dropout_64 (Dropout)         (None, 512)               0         \n",
            "_________________________________________________________________\n",
            "dense_65 (Dense)             (None, 25)                12825     \n",
            "=================================================================\n",
            "Total params: 2,234,199\n",
            "Trainable params: 2,234,199\n",
            "Non-trainable params: 0\n",
            "_________________________________________________________________\n",
            "Epoch 1/18\n",
            "215/214 [==============================] - 10s 48ms/step - loss: 3.1954 - accuracy: 0.0460 - val_loss: 3.1796 - val_accuracy: 0.0252\n",
            "Epoch 2/18\n",
            "215/214 [==============================] - 10s 48ms/step - loss: 2.5095 - accuracy: 0.2097 - val_loss: 1.6263 - val_accuracy: 0.4904\n",
            "Epoch 3/18\n",
            "215/214 [==============================] - 10s 48ms/step - loss: 1.3128 - accuracy: 0.5528 - val_loss: 0.6466 - val_accuracy: 0.7876\n",
            "Epoch 4/18\n",
            "215/214 [==============================] - 10s 48ms/step - loss: 0.6697 - accuracy: 0.7696 - val_loss: 0.3207 - val_accuracy: 0.8779\n",
            "Epoch 5/18\n",
            "215/214 [==============================] - 10s 47ms/step - loss: 0.3613 - accuracy: 0.8786 - val_loss: 0.2244 - val_accuracy: 0.9221\n",
            "Epoch 6/18\n",
            "215/214 [==============================] - 10s 48ms/step - loss: 0.2344 - accuracy: 0.9233 - val_loss: 0.1427 - val_accuracy: 0.9540\n",
            "Epoch 7/18\n",
            "215/214 [==============================] - 10s 48ms/step - loss: 0.1744 - accuracy: 0.9460 - val_loss: 0.0682 - val_accuracy: 0.9817\n",
            "Epoch 8/18\n",
            "215/214 [==============================] - 10s 48ms/step - loss: 0.1298 - accuracy: 0.9602 - val_loss: 0.1968 - val_accuracy: 0.9431\n",
            "Epoch 9/18\n",
            "215/214 [==============================] - 10s 48ms/step - loss: 0.1160 - accuracy: 0.9661 - val_loss: 0.0379 - val_accuracy: 0.9862\n",
            "Epoch 10/18\n",
            "215/214 [==============================] - 10s 48ms/step - loss: 0.1022 - accuracy: 0.9704 - val_loss: 0.0346 - val_accuracy: 0.9841\n",
            "Epoch 11/18\n",
            "215/214 [==============================] - 10s 48ms/step - loss: 0.0904 - accuracy: 0.9726 - val_loss: 0.1248 - val_accuracy: 0.9621\n",
            "Epoch 12/18\n",
            "215/214 [==============================] - 10s 48ms/step - loss: 0.0815 - accuracy: 0.9769 - val_loss: 0.0833 - val_accuracy: 0.9745\n",
            "Epoch 13/18\n",
            "215/214 [==============================] - 10s 48ms/step - loss: 0.0770 - accuracy: 0.9779 - val_loss: 0.0910 - val_accuracy: 0.9771\n",
            "Epoch 14/18\n",
            "215/214 [==============================] - 11s 49ms/step - loss: 0.0728 - accuracy: 0.9810 - val_loss: 0.1403 - val_accuracy: 0.9741\n",
            "Epoch 15/18\n",
            "215/214 [==============================] - 10s 48ms/step - loss: 0.0704 - accuracy: 0.9800 - val_loss: 0.0408 - val_accuracy: 0.9894\n",
            "Epoch 16/18\n",
            "215/214 [==============================] - 10s 48ms/step - loss: 0.0709 - accuracy: 0.9825 - val_loss: 0.0173 - val_accuracy: 0.9932\n",
            "Epoch 17/18\n",
            "215/214 [==============================] - 10s 48ms/step - loss: 0.0641 - accuracy: 0.9835 - val_loss: 0.0428 - val_accuracy: 0.9840\n",
            "Epoch 18/18\n",
            "215/214 [==============================] - 10s 48ms/step - loss: 0.0617 - accuracy: 0.9843 - val_loss: 0.0253 - val_accuracy: 0.9939\n",
            "225/225 [==============================] - 1s 6ms/step - loss: 8.1256 - accuracy: 0.9912\n"
          ],
          "name": "stdout"
        },
        {
          "output_type": "execute_result",
          "data": {
            "text/plain": [
              "[8.125615119934082, 0.9912158250808716]"
            ]
          },
          "metadata": {
            "tags": []
          },
          "execution_count": 32
        }
      ]
    },
    {
      "cell_type": "code",
      "metadata": {
        "id": "WIUsPeOw5Inv",
        "colab_type": "code",
        "colab": {}
      },
      "source": [
        ""
      ],
      "execution_count": null,
      "outputs": []
    }
  ]
}