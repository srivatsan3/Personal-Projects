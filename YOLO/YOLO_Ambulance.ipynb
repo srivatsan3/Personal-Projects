{
  "nbformat": 4,
  "nbformat_minor": 0,
  "metadata": {
    "colab": {
      "name": "YOLO_Ambulance.ipynb",
      "provenance": [],
      "collapsed_sections": []
    },
    "kernelspec": {
      "display_name": "Python 3",
      "name": "python3"
    },
    "language_info": {
      "name": "python"
    },
    "accelerator": "GPU"
  },
  "cells": [
    {
      "cell_type": "markdown",
      "metadata": {
        "id": "dtmrWj4dibX4"
      },
      "source": [
        "###REFER TO THE FOLLOWING LINK FOR UNDERSTANDING HOW TO USE THE IMPORTED GITHUBS FOR YOLO ALGORITHM AND SOME OTHER FUNCTIONS WHICH HELP IN RETRIEVING DATASETS.\n",
        "[LINK](https://medium.com/analytics-vidhya/custom-object-detection-with-yolov3-8f72fe8ced79)"
      ]
    },
    {
      "cell_type": "code",
      "metadata": {
        "id": "ExXWn7CDSkTQ"
      },
      "source": [
        "!rm -rf OIDv4_ToolKit\n",
        "!rm -rf YoloV3-Custom-Object-Detection"
      ],
      "execution_count": null,
      "outputs": []
    },
    {
      "cell_type": "code",
      "metadata": {
        "colab": {
          "base_uri": "https://localhost:8080/"
        },
        "id": "4oPsMw4FFjCJ",
        "outputId": "a0d00d7f-d457-49ea-f545-e93dc470c911"
      },
      "source": [
        "!git clone https://github.com/pythonlessons/OIDv4_ToolKit.git"
      ],
      "execution_count": null,
      "outputs": [
        {
          "output_type": "stream",
          "text": [
            "Cloning into 'OIDv4_ToolKit'...\n",
            "remote: Enumerating objects: 439, done.\u001b[K\n",
            "remote: Total 439 (delta 0), reused 0 (delta 0), pack-reused 439\u001b[K\n",
            "Receiving objects: 100% (439/439), 34.09 MiB | 40.08 MiB/s, done.\n",
            "Resolving deltas: 100% (155/155), done.\n"
          ],
          "name": "stdout"
        }
      ]
    },
    {
      "cell_type": "code",
      "metadata": {
        "colab": {
          "base_uri": "https://localhost:8080/"
        },
        "id": "fbEct6iLFrFC",
        "outputId": "33638e61-9024-49c1-93ab-ad98e8cd058c"
      },
      "source": [
        "%cd OIDv4_ToolKit\n",
        "!git clone https://github.com/TheCaffeineDev/YoloV3-Custom-Object-Detection.git"
      ],
      "execution_count": null,
      "outputs": [
        {
          "output_type": "stream",
          "text": [
            "/content/OIDv4_ToolKit\n",
            "Cloning into 'YoloV3-Custom-Object-Detection'...\n",
            "remote: Enumerating objects: 163, done.\u001b[K\n",
            "remote: Counting objects: 100% (163/163), done.\u001b[K\n",
            "remote: Compressing objects: 100% (121/121), done.\u001b[K\n",
            "remote: Total 163 (delta 56), reused 128 (delta 31), pack-reused 0\u001b[K\n",
            "Receiving objects: 100% (163/163), 2.92 MiB | 15.20 MiB/s, done.\n",
            "Resolving deltas: 100% (56/56), done.\n"
          ],
          "name": "stdout"
        }
      ]
    },
    {
      "cell_type": "code",
      "metadata": {
        "colab": {
          "base_uri": "https://localhost:8080/"
        },
        "id": "2_LFdJ41Fx7N",
        "outputId": "2520f41e-5989-44bc-e50a-82a6fe80d535"
      },
      "source": [
        "!pip3 install -r requirements.txt"
      ],
      "execution_count": null,
      "outputs": [
        {
          "output_type": "stream",
          "text": [
            "Requirement already satisfied: pandas in /usr/local/lib/python3.7/dist-packages (from -r requirements.txt (line 1)) (1.1.5)\n",
            "Requirement already satisfied: numpy in /usr/local/lib/python3.7/dist-packages (from -r requirements.txt (line 2)) (1.19.5)\n",
            "Collecting awscli\n",
            "\u001b[?25l  Downloading https://files.pythonhosted.org/packages/86/f4/85ae5e91ba715e5386e2bedec3668cbf6a392c0a7808b2bef370b209b82a/awscli-1.19.94-py2.py3-none-any.whl (3.6MB)\n",
            "\u001b[K     |████████████████████████████████| 3.6MB 29.8MB/s \n",
            "\u001b[?25hRequirement already satisfied: urllib3 in /usr/local/lib/python3.7/dist-packages (from -r requirements.txt (line 5)) (1.24.3)\n",
            "Requirement already satisfied: tqdm in /usr/local/lib/python3.7/dist-packages (from -r requirements.txt (line 7)) (4.41.1)\n",
            "Requirement already satisfied: opencv-python in /usr/local/lib/python3.7/dist-packages (from -r requirements.txt (line 9)) (4.1.2.30)\n",
            "Requirement already satisfied: python-dateutil>=2.7.3 in /usr/local/lib/python3.7/dist-packages (from pandas->-r requirements.txt (line 1)) (2.8.1)\n",
            "Requirement already satisfied: pytz>=2017.2 in /usr/local/lib/python3.7/dist-packages (from pandas->-r requirements.txt (line 1)) (2018.9)\n",
            "Collecting s3transfer<0.5.0,>=0.4.0\n",
            "\u001b[?25l  Downloading https://files.pythonhosted.org/packages/63/d0/693477c688348654ddc21dcdce0817653a294aa43f41771084c25e7ff9c7/s3transfer-0.4.2-py2.py3-none-any.whl (79kB)\n",
            "\u001b[K     |████████████████████████████████| 81kB 9.7MB/s \n",
            "\u001b[?25hRequirement already satisfied: rsa<4.8,>=3.1.2; python_version > \"2.7\" in /usr/local/lib/python3.7/dist-packages (from awscli->-r requirements.txt (line 3)) (4.7.2)\n",
            "Collecting botocore==1.20.94\n",
            "\u001b[?25l  Downloading https://files.pythonhosted.org/packages/0a/29/307360450cc467055f626f2daf3840b57f3d08b0b350de3af59d798dd444/botocore-1.20.94-py2.py3-none-any.whl (7.6MB)\n",
            "\u001b[K     |████████████████████████████████| 7.6MB 41.0MB/s \n",
            "\u001b[?25hRequirement already satisfied: PyYAML<5.5,>=3.10 in /usr/local/lib/python3.7/dist-packages (from awscli->-r requirements.txt (line 3)) (3.13)\n",
            "Collecting colorama<0.4.4,>=0.2.5\n",
            "  Downloading https://files.pythonhosted.org/packages/c9/dc/45cdef1b4d119eb96316b3117e6d5708a08029992b2fee2c143c7a0a5cc5/colorama-0.4.3-py2.py3-none-any.whl\n",
            "Collecting docutils<0.16,>=0.10\n",
            "\u001b[?25l  Downloading https://files.pythonhosted.org/packages/22/cd/a6aa959dca619918ccb55023b4cb151949c64d4d5d55b3f4ffd7eee0c6e8/docutils-0.15.2-py3-none-any.whl (547kB)\n",
            "\u001b[K     |████████████████████████████████| 552kB 38.2MB/s \n",
            "\u001b[?25hRequirement already satisfied: six>=1.5 in /usr/local/lib/python3.7/dist-packages (from python-dateutil>=2.7.3->pandas->-r requirements.txt (line 1)) (1.15.0)\n",
            "Requirement already satisfied: pyasn1>=0.1.3 in /usr/local/lib/python3.7/dist-packages (from rsa<4.8,>=3.1.2; python_version > \"2.7\"->awscli->-r requirements.txt (line 3)) (0.4.8)\n",
            "Collecting jmespath<1.0.0,>=0.7.1\n",
            "  Downloading https://files.pythonhosted.org/packages/07/cb/5f001272b6faeb23c1c9e0acc04d48eaaf5c862c17709d20e3469c6e0139/jmespath-0.10.0-py2.py3-none-any.whl\n",
            "\u001b[31mERROR: datascience 0.10.6 has requirement folium==0.2.1, but you'll have folium 0.8.3 which is incompatible.\u001b[0m\n",
            "\u001b[31mERROR: botocore 1.20.94 has requirement urllib3<1.27,>=1.25.4, but you'll have urllib3 1.24.3 which is incompatible.\u001b[0m\n",
            "Installing collected packages: jmespath, botocore, s3transfer, colorama, docutils, awscli\n",
            "  Found existing installation: docutils 0.17.1\n",
            "    Uninstalling docutils-0.17.1:\n",
            "      Successfully uninstalled docutils-0.17.1\n",
            "Successfully installed awscli-1.19.94 botocore-1.20.94 colorama-0.4.3 docutils-0.15.2 jmespath-0.10.0 s3transfer-0.4.2\n"
          ],
          "name": "stdout"
        }
      ]
    },
    {
      "cell_type": "code",
      "metadata": {
        "colab": {
          "base_uri": "https://localhost:8080/"
        },
        "id": "enyrlfu0F0JP",
        "outputId": "439f5c9a-2b48-4f22-92ba-455c43221056"
      },
      "source": [
        "!python3 main.py downloader --classes Ambulance --type_csv train --multiclasses 1 --limit 500"
      ],
      "execution_count": null,
      "outputs": [
        {
          "output_type": "stream",
          "text": [
            "\u001b[92m\n",
            "\t\t   ___   _____  ______            _    _    \n",
            "\t\t .'   `.|_   _||_   _ `.         | |  | |   \n",
            "\t\t/  .-.  \\ | |    | | `. \\ _   __ | |__| |_  \n",
            "\t\t| |   | | | |    | |  | |[ \\ [  ]|____   _| \n",
            "\t\t\\  `-'  /_| |_  _| |_.' / \\ \\/ /     _| |_  \n",
            "\t\t `.___.'|_____||______.'   \\__/     |_____|\n",
            "\t\u001b[0m\n",
            "\u001b[92m\n",
            "             _____                    _                 _             \n",
            "            (____ \\                  | |               | |            \n",
            "             _   \\ \\ ___  _ _ _ ____ | | ___   ____  _ | | ____  ____ \n",
            "            | |   | / _ \\| | | |  _ \\| |/ _ \\ / _  |/ || |/ _  )/ ___)\n",
            "            | |__/ / |_| | | | | | | | | |_| ( ( | ( (_| ( (/ /| |    \n",
            "            |_____/ \\___/ \\____|_| |_|_|\\___/ \\_||_|\\____|\\____)_|    \n",
            "                                                          \n",
            "        \u001b[0m\n",
            "    [INFO] | Downloading ['Ambulance'] together.\u001b[0m\n",
            "\u001b[91m   [ERROR] | Missing the class-descriptions-boxable.csv file.\u001b[0m\n",
            "\u001b[94m[DOWNLOAD] | Do you want to download the missing file? [Y/n] \u001b[0mY\n",
            "...145%, 0 MB, 16561 KB/s, 0 seconds passed\n",
            "\u001b[94m[DOWNLOAD] | File class-descriptions-boxable.csv downloaded into OID/csv_folder/class-descriptions-boxable.csv.\u001b[0m\n",
            "\u001b[91m   [ERROR] | Missing the train-annotations-bbox.csv file.\u001b[0m\n",
            "\u001b[94m[DOWNLOAD] | Do you want to download the missing file? [Y/n] \u001b[0mY\n",
            "...100%, 1138 MB, 36007 KB/s, 32 seconds passed\n",
            "\u001b[94m[DOWNLOAD] | File train-annotations-bbox.csv downloaded into OID/csv_folder/train-annotations-bbox.csv.\u001b[0m\n",
            "\n",
            "\u001b[95mAmbulance\u001b[0m\n",
            "    [INFO] | Downloading train images.\u001b[0m\n",
            "    [INFO] | [INFO] Found 338 online images for train.\u001b[0m\n",
            "    [INFO] | Limiting to 500 images.\u001b[0m\n",
            "    [INFO] | Download of 338 images in train.\u001b[0m\n",
            "100% 338/338 [03:03<00:00,  1.84it/s]\n",
            "    [INFO] | Done!\u001b[0m\n",
            "    [INFO] | Creating labels for Ambulance of train.\u001b[0m\n",
            "    [INFO] | Labels creation completed.\u001b[0m\n"
          ],
          "name": "stdout"
        }
      ]
    },
    {
      "cell_type": "code",
      "metadata": {
        "id": "Nq2dVrYeGBop",
        "colab": {
          "base_uri": "https://localhost:8080/"
        },
        "outputId": "c354f54a-99e6-4e48-a6e8-fbfa254ac7ca"
      },
      "source": [
        "%cd /\n",
        "%cd /content/OIDv4_ToolKit\n",
        "!python3 oid_to_pascal_voc_xml.py"
      ],
      "execution_count": null,
      "outputs": [
        {
          "output_type": "stream",
          "text": [
            "/\n",
            "/content/OIDv4_ToolKit\n",
            "Currently in Subdirectory: train\n",
            "\n",
            "Creating PASCAL VOC XML Files for Class: Ambulance\n",
            "100% 338/338 [00:04<00:00, 73.06it/s]\n"
          ],
          "name": "stdout"
        }
      ]
    },
    {
      "cell_type": "code",
      "metadata": {
        "colab": {
          "base_uri": "https://localhost:8080/"
        },
        "id": "Z8s7z_rRHj0r",
        "outputId": "51c03f3b-d493-4afe-eb2e-2361edb17718"
      },
      "source": [
        "!pip3 install -r requirements.txt"
      ],
      "execution_count": null,
      "outputs": [
        {
          "output_type": "stream",
          "text": [
            "Requirement already satisfied: pandas in /usr/local/lib/python3.7/dist-packages (from -r requirements.txt (line 1)) (1.1.5)\n",
            "Requirement already satisfied: numpy in /usr/local/lib/python3.7/dist-packages (from -r requirements.txt (line 2)) (1.19.5)\n",
            "Requirement already satisfied: awscli in /usr/local/lib/python3.7/dist-packages (from -r requirements.txt (line 3)) (1.19.94)\n",
            "Requirement already satisfied: urllib3 in /usr/local/lib/python3.7/dist-packages (from -r requirements.txt (line 5)) (1.24.3)\n",
            "Requirement already satisfied: tqdm in /usr/local/lib/python3.7/dist-packages (from -r requirements.txt (line 7)) (4.41.1)\n",
            "Requirement already satisfied: opencv-python in /usr/local/lib/python3.7/dist-packages (from -r requirements.txt (line 9)) (4.1.2.30)\n",
            "Requirement already satisfied: python-dateutil>=2.7.3 in /usr/local/lib/python3.7/dist-packages (from pandas->-r requirements.txt (line 1)) (2.8.1)\n",
            "Requirement already satisfied: pytz>=2017.2 in /usr/local/lib/python3.7/dist-packages (from pandas->-r requirements.txt (line 1)) (2018.9)\n",
            "Requirement already satisfied: s3transfer<0.5.0,>=0.4.0 in /usr/local/lib/python3.7/dist-packages (from awscli->-r requirements.txt (line 3)) (0.4.2)\n",
            "Requirement already satisfied: PyYAML<5.5,>=3.10 in /usr/local/lib/python3.7/dist-packages (from awscli->-r requirements.txt (line 3)) (3.13)\n",
            "Requirement already satisfied: botocore==1.20.94 in /usr/local/lib/python3.7/dist-packages (from awscli->-r requirements.txt (line 3)) (1.20.94)\n",
            "Requirement already satisfied: colorama<0.4.4,>=0.2.5 in /usr/local/lib/python3.7/dist-packages (from awscli->-r requirements.txt (line 3)) (0.4.3)\n",
            "Requirement already satisfied: rsa<4.8,>=3.1.2; python_version > \"2.7\" in /usr/local/lib/python3.7/dist-packages (from awscli->-r requirements.txt (line 3)) (4.7.2)\n",
            "Requirement already satisfied: docutils<0.16,>=0.10 in /usr/local/lib/python3.7/dist-packages (from awscli->-r requirements.txt (line 3)) (0.15.2)\n",
            "Requirement already satisfied: six>=1.5 in /usr/local/lib/python3.7/dist-packages (from python-dateutil>=2.7.3->pandas->-r requirements.txt (line 1)) (1.15.0)\n",
            "Requirement already satisfied: jmespath<1.0.0,>=0.7.1 in /usr/local/lib/python3.7/dist-packages (from botocore==1.20.94->awscli->-r requirements.txt (line 3)) (0.10.0)\n",
            "Requirement already satisfied: pyasn1>=0.1.3 in /usr/local/lib/python3.7/dist-packages (from rsa<4.8,>=3.1.2; python_version > \"2.7\"->awscli->-r requirements.txt (line 3)) (0.4.8)\n"
          ],
          "name": "stdout"
        }
      ]
    },
    {
      "cell_type": "code",
      "metadata": {
        "id": "snsn6cUtHmwT",
        "colab": {
          "base_uri": "https://localhost:8080/"
        },
        "outputId": "f11e1483-e221-4692-a28d-8690a8facb97"
      },
      "source": [
        "\n",
        "!cp OID/Dataset/train/Ambulance/*.jpg YoloV3-Custom-Object-Detection/training/images/\n",
        "!cp OID/Dataset/train/Ambulance/*.xml YoloV3-Custom-Object-Detection/conversion/xmls/\n",
        "\n",
        "It looks like this:\n",
        "%cd YoloV3-Custom-Object-Detection/conversion/\n",
        "!pip install declxml"
      ],
      "execution_count": null,
      "outputs": [
        {
          "output_type": "stream",
          "text": [
            "/content/OIDv4_ToolKit/YoloV3-Custom-Object-Detection/conversion\n",
            "Requirement already satisfied: declxml in /usr/local/lib/python3.7/dist-packages (1.1.3)\n",
            "Requirement already satisfied: typing in /usr/local/lib/python3.7/dist-packages (from declxml) (3.7.4.3)\n"
          ],
          "name": "stdout"
        }
      ]
    },
    {
      "cell_type": "code",
      "metadata": {
        "id": "KQUP30cXMy9Y"
      },
      "source": [
        "!python3 xmltotxt.py -xml xmls -out output"
      ],
      "execution_count": null,
      "outputs": []
    },
    {
      "cell_type": "code",
      "metadata": {
        "colab": {
          "base_uri": "https://localhost:8080/"
        },
        "id": "eAJMq2S7M3wF",
        "outputId": "d30dd0cf-1af2-403c-b9b6-4d2668237b4c"
      },
      "source": [
        "%cd /\n",
        "%cd content/OIDv4_ToolKit\n",
        "!cp YoloV3-Custom-Object-Detection/conversion/output/*.txt YoloV3-Custom-Object-Detection/training/labels/"
      ],
      "execution_count": null,
      "outputs": [
        {
          "output_type": "stream",
          "text": [
            "/\n",
            "/content/OIDv4_ToolKit\n"
          ],
          "name": "stdout"
        }
      ]
    },
    {
      "cell_type": "code",
      "metadata": {
        "colab": {
          "base_uri": "https://localhost:8080/"
        },
        "id": "-RRezCWfN9C6",
        "outputId": "c720ec2f-73a4-41c4-d5e2-f72e5910390e"
      },
      "source": [
        "%cd /\n",
        "%cd content/OIDv4_ToolKit/YoloV3-Custom-Object-Detection/training/\n",
        "!python3 train_test.py"
      ],
      "execution_count": null,
      "outputs": [
        {
          "output_type": "stream",
          "text": [
            "/\n",
            "/content/OIDv4_ToolKit/YoloV3-Custom-Object-Detection/training\n"
          ],
          "name": "stdout"
        }
      ]
    },
    {
      "cell_type": "code",
      "metadata": {
        "colab": {
          "base_uri": "https://localhost:8080/"
        },
        "id": "_SEWdct1PW0q",
        "outputId": "6e580626-e5b2-4ee3-a0fe-4a1dabe4b5eb"
      },
      "source": [
        "%cd /\n",
        "%cd content/OIDv4_ToolKit/YoloV3-Custom-Object-Detection/"
      ],
      "execution_count": null,
      "outputs": [
        {
          "output_type": "stream",
          "text": [
            "/\n",
            "/content/OIDv4_ToolKit/YoloV3-Custom-Object-Detection\n"
          ],
          "name": "stdout"
        }
      ]
    },
    {
      "cell_type": "code",
      "metadata": {
        "colab": {
          "base_uri": "https://localhost:8080/"
        },
        "id": "4TcK-s9tRBQ4",
        "outputId": "0b271be9-9f91-4afd-ead2-596f8f86eb83"
      },
      "source": [
        "!python3 train.py --epochs 50 --data training/trainer.data --cfg training/yolov3.cfg --batch 16 --accum 1 "
      ],
      "execution_count": null,
      "outputs": [
        {
          "output_type": "stream",
          "text": [
            "Namespace(accumulate=1, adam=False, arc='default', batch_size=16, bucket='', cache_images=False, cfg='training/yolov3.cfg', data='training/trainer.data', device='', epochs=50, evolve=False, img_size=416, img_weights=False, multi_scale=False, name='', nosave=False, notest=False, prebias=False, rect=False, resume=False, transfer=False, var=None, weights='weights/yolov3-spp.weights')\n",
            "Using CUDA device0 _CudaDeviceProperties(name='Tesla K80', total_memory=11441MB)\n",
            "\n",
            "2021-05-12 13:58:35.386312: I tensorflow/stream_executor/platform/default/dso_loader.cc:49] Successfully opened dynamic library libcudart.so.11.0\n",
            "WARNING: smart bias initialization failure.\n",
            "WARNING: smart bias initialization failure.\n",
            "WARNING: smart bias initialization failure.\n",
            "Caching labels (296 found, 0 missing, 0 empty, 0 duplicate, for 296 images): 100% 296/296 [00:00<00:00, 1682.78it/s]\n",
            "Reading image shapes: 100% 42/42 [00:00<00:00, 331.26it/s]\n",
            "Caching labels (42 found, 0 missing, 0 empty, 0 duplicate, for 42 images): 100% 42/42 [00:00<00:00, 3084.10it/s]\n",
            "Model Summary: 222 layers, 6.15237e+07 parameters, 6.15237e+07 gradients\n",
            "Using 2 dataloader workers\n",
            "Starting training for 50 epochs...\n",
            "\n",
            "     Epoch   gpu_mem      GIoU       obj       cls     total   targets  img_size\n",
            "  0% 0/19 [00:00<?, ?it/s]/usr/local/lib/python3.7/dist-packages/torch/cuda/memory.py:375: FutureWarning: torch.cuda.memory_cached has been renamed to torch.cuda.memory_reserved\n",
            "  FutureWarning)\n",
            "      0/49     7.64G      6.77      75.3         0      82.1        17       416: 100% 19/19 [00:59<00:00,  3.14s/it]\n",
            "               Class    Images   Targets         P         R   mAP@0.5        F1: 100% 3/3 [00:03<00:00,  1.18s/it]\n",
            "                 all        42        50         0         0         0         0\n",
            "\n",
            "     Epoch   gpu_mem      GIoU       obj       cls     total   targets  img_size\n",
            "  0% 0/19 [00:00<?, ?it/s]/usr/local/lib/python3.7/dist-packages/torch/cuda/memory.py:375: FutureWarning: torch.cuda.memory_cached has been renamed to torch.cuda.memory_reserved\n",
            "  FutureWarning)\n",
            "      1/49     7.65G      6.05      9.54         0      15.6        29       416: 100% 19/19 [00:55<00:00,  2.90s/it]\n",
            "               Class    Images   Targets         P         R   mAP@0.5        F1: 100% 3/3 [00:02<00:00,  1.26it/s]\n",
            "                 all        42        50         0         0         0         0\n",
            "\n",
            "     Epoch   gpu_mem      GIoU       obj       cls     total   targets  img_size\n",
            "      2/49     7.65G      5.88      4.65         0      10.5        22       416: 100% 19/19 [00:54<00:00,  2.89s/it]\n",
            "               Class    Images   Targets         P         R   mAP@0.5        F1: 100% 3/3 [00:02<00:00,  1.26it/s]\n",
            "                 all        42        50         0         0         0         0\n",
            "\n",
            "     Epoch   gpu_mem      GIoU       obj       cls     total   targets  img_size\n",
            "      3/49     7.65G      4.75      4.23         0      8.98        13       416: 100% 19/19 [00:55<00:00,  2.90s/it]\n",
            "               Class    Images   Targets         P         R   mAP@0.5        F1: 100% 3/3 [00:02<00:00,  1.24it/s]\n",
            "                 all        42        50         0         0         0         0\n",
            "\n",
            "     Epoch   gpu_mem      GIoU       obj       cls     total   targets  img_size\n",
            "      4/49     7.65G      5.11      3.54         0      8.65        28       416: 100% 19/19 [00:55<00:00,  2.91s/it]\n",
            "               Class    Images   Targets         P         R   mAP@0.5        F1: 100% 3/3 [00:02<00:00,  1.24it/s]\n",
            "                 all        42        50         0         0         0         0\n",
            "\n",
            "     Epoch   gpu_mem      GIoU       obj       cls     total   targets  img_size\n",
            "      5/49     7.65G      5.31      3.13         0      8.44        22       416: 100% 19/19 [00:55<00:00,  2.91s/it]\n",
            "               Class    Images   Targets         P         R   mAP@0.5        F1: 100% 3/3 [00:02<00:00,  1.28it/s]\n",
            "                 all        42        50         0         0         0         0\n",
            "\n",
            "     Epoch   gpu_mem      GIoU       obj       cls     total   targets  img_size\n",
            "      6/49     7.65G      4.92      3.05         0      7.97        32       416: 100% 19/19 [00:55<00:00,  2.90s/it]\n",
            "               Class    Images   Targets         P         R   mAP@0.5        F1: 100% 3/3 [00:02<00:00,  1.26it/s]\n",
            "                 all        42        50         1      0.04     0.045    0.0769\n",
            "\n",
            "     Epoch   gpu_mem      GIoU       obj       cls     total   targets  img_size\n",
            "      7/49     7.65G      4.56      2.77         0      7.33        21       416: 100% 19/19 [00:55<00:00,  2.90s/it]\n",
            "               Class    Images   Targets         P         R   mAP@0.5        F1: 100% 3/3 [00:02<00:00,  1.21it/s]\n",
            "                 all        42        50       0.6       0.3     0.237       0.4\n",
            "\n",
            "     Epoch   gpu_mem      GIoU       obj       cls     total   targets  img_size\n",
            "      8/49     7.65G      4.12      2.65         0      6.77        25       416: 100% 19/19 [00:55<00:00,  2.90s/it]\n",
            "               Class    Images   Targets         P         R   mAP@0.5        F1: 100% 3/3 [00:02<00:00,  1.23it/s]\n",
            "                 all        42        50     0.707      0.58     0.554     0.637\n",
            "\n",
            "     Epoch   gpu_mem      GIoU       obj       cls     total   targets  img_size\n",
            "      9/49     7.65G      3.78      2.38         0      6.16        19       416: 100% 19/19 [00:55<00:00,  2.90s/it]\n",
            "               Class    Images   Targets         P         R   mAP@0.5        F1: 100% 3/3 [00:02<00:00,  1.20it/s]\n",
            "                 all        42        50     0.557      0.78     0.693      0.65\n",
            "\n",
            "     Epoch   gpu_mem      GIoU       obj       cls     total   targets  img_size\n",
            "     10/49     7.65G      3.61      2.02         0      5.64        21       416: 100% 19/19 [00:54<00:00,  2.89s/it]\n",
            "               Class    Images   Targets         P         R   mAP@0.5        F1: 100% 3/3 [00:02<00:00,  1.18it/s]\n",
            "                 all        42        50     0.462      0.84     0.727     0.596\n",
            "\n",
            "     Epoch   gpu_mem      GIoU       obj       cls     total   targets  img_size\n",
            "     11/49     7.65G      3.54      1.83         0      5.37        14       416: 100% 19/19 [00:54<00:00,  2.89s/it]\n",
            "               Class    Images   Targets         P         R   mAP@0.5        F1: 100% 3/3 [00:02<00:00,  1.18it/s]\n",
            "                 all        42        50     0.551      0.86       0.8     0.672\n",
            "\n",
            "     Epoch   gpu_mem      GIoU       obj       cls     total   targets  img_size\n",
            "     12/49     7.65G      3.45      1.84         0      5.28        22       416: 100% 19/19 [00:55<00:00,  2.90s/it]\n",
            "               Class    Images   Targets         P         R   mAP@0.5        F1: 100% 3/3 [00:02<00:00,  1.21it/s]\n",
            "                 all        42        50     0.524      0.88     0.762     0.657\n",
            "\n",
            "     Epoch   gpu_mem      GIoU       obj       cls     total   targets  img_size\n",
            "     13/49     7.65G      3.22      1.78         0         5        16       416: 100% 19/19 [00:55<00:00,  2.90s/it]\n",
            "               Class    Images   Targets         P         R   mAP@0.5        F1: 100% 3/3 [00:02<00:00,  1.19it/s]\n",
            "                 all        42        50     0.573      0.86      0.77     0.688\n",
            "\n",
            "     Epoch   gpu_mem      GIoU       obj       cls     total   targets  img_size\n",
            "     14/49     7.65G      3.33      1.72         0      5.05        20       416: 100% 19/19 [00:55<00:00,  2.90s/it]\n",
            "               Class    Images   Targets         P         R   mAP@0.5        F1: 100% 3/3 [00:02<00:00,  1.21it/s]\n",
            "                 all        42        50     0.597      0.86     0.772     0.705\n",
            "\n",
            "     Epoch   gpu_mem      GIoU       obj       cls     total   targets  img_size\n",
            "     15/49     7.65G      3.26      1.66         0      4.92        24       416: 100% 19/19 [00:55<00:00,  2.91s/it]\n",
            "               Class    Images   Targets         P         R   mAP@0.5        F1: 100% 3/3 [00:02<00:00,  1.19it/s]\n",
            "                 all        42        50     0.592       0.9     0.801     0.714\n",
            "\n",
            "     Epoch   gpu_mem      GIoU       obj       cls     total   targets  img_size\n",
            "     16/49     7.65G      3.04      1.55         0      4.59        20       416: 100% 19/19 [00:55<00:00,  2.93s/it]\n",
            "               Class    Images   Targets         P         R   mAP@0.5        F1: 100% 3/3 [00:02<00:00,  1.18it/s]\n",
            "                 all        42        50     0.589      0.86     0.807     0.699\n",
            "\n",
            "     Epoch   gpu_mem      GIoU       obj       cls     total   targets  img_size\n",
            "     17/49     7.65G      3.15      1.61         0      4.76        19       416: 100% 19/19 [00:55<00:00,  2.91s/it]\n",
            "               Class    Images   Targets         P         R   mAP@0.5        F1: 100% 3/3 [00:02<00:00,  1.18it/s]\n",
            "                 all        42        50     0.625       0.9     0.823     0.738\n",
            "\n",
            "     Epoch   gpu_mem      GIoU       obj       cls     total   targets  img_size\n",
            "     18/49     7.65G      3.15      1.52         0      4.67        21       416: 100% 19/19 [00:54<00:00,  2.89s/it]\n",
            "               Class    Images   Targets         P         R   mAP@0.5        F1: 100% 3/3 [00:02<00:00,  1.19it/s]\n",
            "                 all        42        50     0.564      0.88     0.792     0.688\n",
            "\n",
            "     Epoch   gpu_mem      GIoU       obj       cls     total   targets  img_size\n",
            "     19/49     7.65G      3.11      1.44         0      4.55        20       416: 100% 19/19 [00:55<00:00,  2.90s/it]\n",
            "               Class    Images   Targets         P         R   mAP@0.5        F1: 100% 3/3 [00:02<00:00,  1.19it/s]\n",
            "                 all        42        50     0.603      0.88     0.779     0.715\n",
            "\n",
            "     Epoch   gpu_mem      GIoU       obj       cls     total   targets  img_size\n",
            "     20/49     7.65G      3.03      1.46         0      4.48        14       416: 100% 19/19 [00:55<00:00,  2.90s/it]\n",
            "               Class    Images   Targets         P         R   mAP@0.5        F1: 100% 3/3 [00:02<00:00,  1.19it/s]\n",
            "                 all        42        50     0.579      0.88     0.782     0.698\n",
            "\n",
            "     Epoch   gpu_mem      GIoU       obj       cls     total   targets  img_size\n",
            "     21/49     7.65G         3      1.46         0      4.46        27       416: 100% 19/19 [00:55<00:00,  2.90s/it]\n",
            "               Class    Images   Targets         P         R   mAP@0.5        F1: 100% 3/3 [00:02<00:00,  1.18it/s]\n",
            "                 all        42        50      0.62      0.88     0.782     0.727\n",
            "\n",
            "     Epoch   gpu_mem      GIoU       obj       cls     total   targets  img_size\n",
            "     22/49     7.65G      2.95      1.29         0      4.25        23       416: 100% 19/19 [00:55<00:00,  2.92s/it]\n",
            "               Class    Images   Targets         P         R   mAP@0.5        F1: 100% 3/3 [00:02<00:00,  1.18it/s]\n",
            "                 all        42        50     0.662       0.9       0.8     0.763\n",
            "\n",
            "     Epoch   gpu_mem      GIoU       obj       cls     total   targets  img_size\n",
            "     23/49     7.65G      2.99       1.4         0      4.39        25       416: 100% 19/19 [00:55<00:00,  2.93s/it]\n",
            "               Class    Images   Targets         P         R   mAP@0.5        F1: 100% 3/3 [00:02<00:00,  1.19it/s]\n",
            "                 all        42        50     0.616       0.9     0.786     0.732\n",
            "\n",
            "     Epoch   gpu_mem      GIoU       obj       cls     total   targets  img_size\n",
            "     24/49     7.65G      2.97      1.37         0      4.34        25       416: 100% 19/19 [00:55<00:00,  2.90s/it]\n",
            "               Class    Images   Targets         P         R   mAP@0.5        F1: 100% 3/3 [00:02<00:00,  1.20it/s]\n",
            "                 all        42        50     0.667      0.88      0.77     0.759\n",
            "\n",
            "     Epoch   gpu_mem      GIoU       obj       cls     total   targets  img_size\n",
            "     25/49     7.65G      2.75      1.32         0      4.08        29       416: 100% 19/19 [00:55<00:00,  2.90s/it]\n",
            "               Class    Images   Targets         P         R   mAP@0.5        F1: 100% 3/3 [00:02<00:00,  1.19it/s]\n",
            "                 all        42        50     0.647      0.88     0.802     0.746\n",
            "\n",
            "     Epoch   gpu_mem      GIoU       obj       cls     total   targets  img_size\n",
            "     26/49     7.65G      2.71      1.39         0      4.11        22       416: 100% 19/19 [00:55<00:00,  2.90s/it]\n",
            "               Class    Images   Targets         P         R   mAP@0.5        F1: 100% 3/3 [00:02<00:00,  1.19it/s]\n",
            "                 all        42        50     0.667      0.88     0.805     0.759\n",
            "\n",
            "     Epoch   gpu_mem      GIoU       obj       cls     total   targets  img_size\n",
            "     27/49     7.65G         3      1.28         0      4.28        24       416: 100% 19/19 [00:55<00:00,  2.90s/it]\n",
            "               Class    Images   Targets         P         R   mAP@0.5        F1: 100% 3/3 [00:02<00:00,  1.21it/s]\n",
            "                 all        42        50     0.647      0.88     0.787     0.746\n",
            "\n",
            "     Epoch   gpu_mem      GIoU       obj       cls     total   targets  img_size\n",
            "     28/49     7.65G       2.6      1.26         0      3.86        21       416: 100% 19/19 [00:55<00:00,  2.90s/it]\n",
            "               Class    Images   Targets         P         R   mAP@0.5        F1: 100% 3/3 [00:02<00:00,  1.20it/s]\n",
            "                 all        42        50     0.652      0.86       0.8     0.741\n",
            "\n",
            "     Epoch   gpu_mem      GIoU       obj       cls     total   targets  img_size\n",
            "     29/49     7.65G      2.96      1.24         0       4.2        19       416: 100% 19/19 [00:55<00:00,  2.92s/it]\n",
            "               Class    Images   Targets         P         R   mAP@0.5        F1: 100% 3/3 [00:02<00:00,  1.17it/s]\n",
            "                 all        42        50     0.642      0.86     0.793     0.735\n",
            "\n",
            "     Epoch   gpu_mem      GIoU       obj       cls     total   targets  img_size\n",
            "     30/49     7.65G      2.54      1.27         0      3.82        30       416: 100% 19/19 [00:55<00:00,  2.91s/it]\n",
            "               Class    Images   Targets         P         R   mAP@0.5        F1: 100% 3/3 [00:02<00:00,  1.20it/s]\n",
            "                 all        42        50     0.694      0.86     0.772     0.768\n",
            "\n",
            "     Epoch   gpu_mem      GIoU       obj       cls     total   targets  img_size\n",
            "     31/49     7.65G      2.57      1.21         0      3.77        22       416: 100% 19/19 [00:55<00:00,  2.90s/it]\n",
            "               Class    Images   Targets         P         R   mAP@0.5        F1: 100% 3/3 [00:02<00:00,  1.19it/s]\n",
            "                 all        42        50     0.682       0.9     0.827     0.776\n",
            "\n",
            "     Epoch   gpu_mem      GIoU       obj       cls     total   targets  img_size\n",
            "     32/49     7.65G      2.51      1.28         0      3.78        29       416: 100% 19/19 [00:55<00:00,  2.92s/it]\n",
            "               Class    Images   Targets         P         R   mAP@0.5        F1: 100% 3/3 [00:02<00:00,  1.21it/s]\n",
            "                 all        42        50     0.667      0.88     0.801     0.759\n",
            "\n",
            "     Epoch   gpu_mem      GIoU       obj       cls     total   targets  img_size\n",
            "     33/49     7.65G      2.65      1.11         0      3.76        30       416: 100% 19/19 [00:55<00:00,  2.92s/it]\n",
            "               Class    Images   Targets         P         R   mAP@0.5        F1: 100% 3/3 [00:02<00:00,  1.19it/s]\n",
            "                 all        42        50      0.71      0.88     0.807     0.786\n",
            "\n",
            "     Epoch   gpu_mem      GIoU       obj       cls     total   targets  img_size\n",
            "     34/49     7.65G       2.6       1.2         0      3.81        31       416: 100% 19/19 [00:55<00:00,  2.92s/it]\n",
            "               Class    Images   Targets         P         R   mAP@0.5        F1: 100% 3/3 [00:02<00:00,  1.18it/s]\n",
            "                 all        42        50     0.763       0.9     0.818     0.826\n",
            "\n",
            "     Epoch   gpu_mem      GIoU       obj       cls     total   targets  img_size\n",
            "     35/49     7.65G      2.59      1.15         0      3.74        25       416: 100% 19/19 [00:55<00:00,  2.90s/it]\n",
            "               Class    Images   Targets         P         R   mAP@0.5        F1: 100% 3/3 [00:02<00:00,  1.20it/s]\n",
            "                 all        42        50     0.738       0.9      0.82     0.811\n",
            "\n",
            "     Epoch   gpu_mem      GIoU       obj       cls     total   targets  img_size\n",
            "     36/49     7.65G      2.33      1.21         0      3.54        25       416: 100% 19/19 [00:55<00:00,  2.90s/it]\n",
            "               Class    Images   Targets         P         R   mAP@0.5        F1: 100% 3/3 [00:02<00:00,  1.20it/s]\n",
            "                 all        42        50     0.714       0.9     0.834     0.796\n",
            "\n",
            "     Epoch   gpu_mem      GIoU       obj       cls     total   targets  img_size\n",
            "     37/49     7.65G      2.58      1.19         0      3.77        23       416: 100% 19/19 [00:54<00:00,  2.89s/it]\n",
            "               Class    Images   Targets         P         R   mAP@0.5        F1: 100% 3/3 [00:02<00:00,  1.20it/s]\n",
            "                 all        42        50     0.692       0.9       0.8     0.783\n",
            "\n",
            "     Epoch   gpu_mem      GIoU       obj       cls     total   targets  img_size\n",
            "     38/49     7.65G      2.29      1.12         0       3.4        22       416: 100% 19/19 [00:55<00:00,  2.91s/it]\n",
            "               Class    Images   Targets         P         R   mAP@0.5        F1: 100% 3/3 [00:02<00:00,  1.19it/s]\n",
            "                 all        42        50     0.754      0.86      0.78     0.804\n",
            "\n",
            "     Epoch   gpu_mem      GIoU       obj       cls     total   targets  img_size\n",
            "     39/49     7.65G      2.45      1.12         0      3.58        20       416: 100% 19/19 [00:55<00:00,  2.92s/it]\n",
            "               Class    Images   Targets         P         R   mAP@0.5        F1: 100% 3/3 [00:02<00:00,  1.19it/s]\n",
            "                 all        42        50     0.776       0.9     0.805     0.833\n",
            "\n",
            "     Epoch   gpu_mem      GIoU       obj       cls     total   targets  img_size\n",
            "     40/49     7.65G      2.28      1.12         0       3.4        18       416: 100% 19/19 [00:55<00:00,  2.91s/it]\n",
            "               Class    Images   Targets         P         R   mAP@0.5        F1: 100% 3/3 [00:02<00:00,  1.19it/s]\n",
            "                 all        42        50     0.703       0.9     0.803     0.789\n",
            "\n",
            "     Epoch   gpu_mem      GIoU       obj       cls     total   targets  img_size\n",
            "     41/49     7.65G      2.21      1.15         0      3.37        22       416: 100% 19/19 [00:55<00:00,  2.90s/it]\n",
            "               Class    Images   Targets         P         R   mAP@0.5        F1: 100% 3/3 [00:02<00:00,  1.17it/s]\n",
            "                 all        42        50     0.726       0.9     0.803     0.804\n",
            "\n",
            "     Epoch   gpu_mem      GIoU       obj       cls     total   targets  img_size\n",
            "     42/49     7.65G       2.3      1.08         0      3.38        23       416: 100% 19/19 [00:55<00:00,  2.92s/it]\n",
            "               Class    Images   Targets         P         R   mAP@0.5        F1: 100% 3/3 [00:02<00:00,  1.19it/s]\n",
            "                 all        42        50     0.746      0.88     0.791     0.807\n",
            "\n",
            "     Epoch   gpu_mem      GIoU       obj       cls     total   targets  img_size\n",
            "     43/49     7.65G      2.31     0.998         0      3.31        21       416: 100% 19/19 [00:55<00:00,  2.92s/it]\n",
            "               Class    Images   Targets         P         R   mAP@0.5        F1: 100% 3/3 [00:02<00:00,  1.18it/s]\n",
            "                 all        42        50     0.726       0.9     0.806     0.804\n",
            "\n",
            "     Epoch   gpu_mem      GIoU       obj       cls     total   targets  img_size\n",
            "     44/49     7.65G      2.15     0.967         0      3.12        29       416: 100% 19/19 [00:55<00:00,  2.90s/it]\n",
            "               Class    Images   Targets         P         R   mAP@0.5        F1: 100% 3/3 [00:02<00:00,  1.20it/s]\n",
            "                 all        42        50     0.703       0.9     0.813     0.789\n",
            "\n",
            "     Epoch   gpu_mem      GIoU       obj       cls     total   targets  img_size\n",
            "     45/49     7.65G      2.08      1.07         0      3.14        22       416: 100% 19/19 [00:55<00:00,  2.90s/it]\n",
            "               Class    Images   Targets         P         R   mAP@0.5        F1: 100% 3/3 [00:02<00:00,  1.20it/s]\n",
            "                 all        42        50     0.738       0.9     0.809     0.811\n",
            "\n",
            "     Epoch   gpu_mem      GIoU       obj       cls     total   targets  img_size\n",
            "     46/49     7.65G      2.16      1.04         0      3.21        28       416: 100% 19/19 [00:54<00:00,  2.89s/it]\n",
            "               Class    Images   Targets         P         R   mAP@0.5        F1: 100% 3/3 [00:02<00:00,  1.20it/s]\n",
            "                 all        42        50      0.75       0.9      0.81     0.818\n",
            "\n",
            "     Epoch   gpu_mem      GIoU       obj       cls     total   targets  img_size\n",
            "     47/49     7.65G      1.94      1.08         0      3.02        33       416: 100% 19/19 [00:55<00:00,  2.90s/it]\n",
            "               Class    Images   Targets         P         R   mAP@0.5        F1: 100% 3/3 [00:02<00:00,  1.19it/s]\n",
            "                 all        42        50     0.738       0.9     0.809     0.811\n",
            "\n",
            "     Epoch   gpu_mem      GIoU       obj       cls     total   targets  img_size\n",
            "     48/49     7.65G      2.18      1.07         0      3.25        28       416: 100% 19/19 [00:54<00:00,  2.89s/it]\n",
            "               Class    Images   Targets         P         R   mAP@0.5        F1: 100% 3/3 [00:02<00:00,  1.20it/s]\n",
            "                 all        42        50     0.726       0.9     0.808     0.804\n",
            "\n",
            "     Epoch   gpu_mem      GIoU       obj       cls     total   targets  img_size\n",
            "     49/49     7.65G       2.2      1.08         0      3.27        28       416: 100% 19/19 [00:55<00:00,  2.89s/it]\n",
            "               Class    Images   Targets         P         R   mAP@0.5        F1: 100% 3/3 [00:02<00:00,  1.17it/s]\n",
            "                 all        42        50    0.0212      0.96     0.828    0.0415\n",
            "50 epochs completed in 0.839 hours.\n",
            "\n"
          ],
          "name": "stdout"
        }
      ]
    },
    {
      "cell_type": "code",
      "metadata": {
        "colab": {
          "base_uri": "https://localhost:8080/"
        },
        "id": "mj5IubLPRIF9",
        "outputId": "323f7b4c-4cac-4c3a-91c6-7a899c4de1ae"
      },
      "source": [
        "%cd /\n",
        "%cd /content/OIDv4_ToolKit/YoloV3-Custom-Object-Detection"
      ],
      "execution_count": null,
      "outputs": [
        {
          "output_type": "stream",
          "text": [
            "/\n",
            "/content/OIDv4_ToolKit/YoloV3-Custom-Object-Detection\n"
          ],
          "name": "stdout"
        }
      ]
    },
    {
      "cell_type": "code",
      "metadata": {
        "colab": {
          "base_uri": "https://localhost:8080/"
        },
        "id": "YnYSbI3Uff3w",
        "outputId": "390f6637-8f5b-42bf-9122-aa47375ba3e6"
      },
      "source": [
        "!python3  -c \"from models import *; convert('training/yolov3.cfg', 'weights/best.pt')\""
      ],
      "execution_count": null,
      "outputs": [
        {
          "output_type": "stream",
          "text": [
            "WARNING: smart bias initialization failure.\n",
            "WARNING: smart bias initialization failure.\n",
            "WARNING: smart bias initialization failure.\n",
            "Success: converted 'weights/best.pt' to 'converted.weights'\n"
          ],
          "name": "stdout"
        }
      ]
    },
    {
      "cell_type": "code",
      "metadata": {
        "colab": {
          "base_uri": "https://localhost:8080/"
        },
        "id": "E8ez3o5wfibd",
        "outputId": "f4754d7f-b0a3-4c21-fdb3-9d551419306d"
      },
      "source": [
        "!python3 detect.py --source traffic.jpg --weights converted.weights --cfg training/yolov3.cfg --names training/object.names"
      ],
      "execution_count": null,
      "outputs": [
        {
          "output_type": "stream",
          "text": [
            "Namespace(cfg='training/yolov3.cfg', conf_thres=0.4, device='', fourcc='mp4v', half=False, img_size=416, names='training/object.names', nms_thres=0.5, output='output', source='traffic.jpg', view_img=False, weights='converted.weights')\n",
            "Using CUDA device0 _CudaDeviceProperties(name='Tesla K80', total_memory=11441MB)\n",
            "\n",
            "image 1/1 traffic.jpg: 288x416 1 Ambulances, Done. (0.079s)\n",
            "Results saved to /content/OIDv4_ToolKit/YoloV3-Custom-Object-Detection/output\n",
            "Done. (0.117s)\n"
          ],
          "name": "stdout"
        }
      ]
    },
    {
      "cell_type": "code",
      "metadata": {
        "id": "66Ce11xOg76w"
      },
      "source": [
        ""
      ],
      "execution_count": null,
      "outputs": []
    }
  ]
}
